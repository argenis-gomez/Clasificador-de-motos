{
  "nbformat": 4,
  "nbformat_minor": 0,
  "metadata": {
    "accelerator": "GPU",
    "colab": {
      "name": "Train_model_1",
      "provenance": [],
      "collapsed_sections": [],
      "include_colab_link": true
    },
    "kernelspec": {
      "display_name": "Python 3",
      "name": "python3"
    },
    "language_info": {
      "name": "python"
    }
  },
  "cells": [
    {
      "cell_type": "markdown",
      "metadata": {
        "id": "view-in-github",
        "colab_type": "text"
      },
      "source": [
        "<a href=\"https://colab.research.google.com/github/argenis-gomez/Clasificador-de-motos/blob/master/Train_model_1.ipynb\" target=\"_parent\"><img src=\"https://colab.research.google.com/assets/colab-badge.svg\" alt=\"Open In Colab\"/></a>"
      ]
    },
    {
      "cell_type": "markdown",
      "metadata": {
        "id": "pAy3gQU1TOOe"
      },
      "source": [
        "# Clasificador de motos\n",
        "\n",
        "Disenaremos un clasificador de motos utilizando un dataset scrapeado de mercado libre."
      ]
    },
    {
      "cell_type": "code",
      "metadata": {
        "id": "trN12022maOu",
        "colab": {
          "base_uri": "https://localhost:8080/"
        },
        "outputId": "b8cf8310-0a1d-4b0d-a384-624a36b55d82"
      },
      "source": [
        "from google.colab import drive\n",
        "drive.mount('/content/drive')"
      ],
      "execution_count": null,
      "outputs": [
        {
          "output_type": "stream",
          "text": [
            "Mounted at /content/drive\n"
          ],
          "name": "stdout"
        }
      ]
    },
    {
      "cell_type": "code",
      "metadata": {
        "id": "R1-z3L_3mkrR"
      },
      "source": [
        "import tensorflow as tf\n",
        "\n",
        "tf.random.set_seed(905)"
      ],
      "execution_count": null,
      "outputs": []
    },
    {
      "cell_type": "markdown",
      "metadata": {
        "id": "Kc65gUcyUjbK"
      },
      "source": [
        "## Sección 1: Importar dataset"
      ]
    },
    {
      "cell_type": "code",
      "metadata": {
        "id": "HgKpNMXPU63i"
      },
      "source": [
        "from zipfile import ZipFile"
      ],
      "execution_count": null,
      "outputs": []
    },
    {
      "cell_type": "code",
      "metadata": {
        "id": "8Ms-NltOVNXY"
      },
      "source": [
        "with ZipFile('/content/drive/MyDrive/Clasificador de motos/data1.zip', 'r') as zipObj:\n",
        "   zipObj.extractall('./')"
      ],
      "execution_count": null,
      "outputs": []
    },
    {
      "cell_type": "markdown",
      "metadata": {
        "id": "a09t6wUKUsNK"
      },
      "source": [
        "## Sección 2: Limpieza de datos"
      ]
    },
    {
      "cell_type": "markdown",
      "metadata": {
        "id": "I4YXlmSHmwNt"
      },
      "source": [
        "### Variables"
      ]
    },
    {
      "cell_type": "code",
      "metadata": {
        "id": "SSHqEjZ116QO"
      },
      "source": [
        "import os"
      ],
      "execution_count": null,
      "outputs": []
    },
    {
      "cell_type": "code",
      "metadata": {
        "id": "RfksI6DMmwNu"
      },
      "source": [
        "DATA_PATH = '/content/data1'\n",
        "\n",
        "IMG_SIZE = 299\n",
        "BATCH_SIZE = 64\n",
        "CLASES = os.listdir(DATA_PATH)\n",
        "\n",
        "CHECK_PATH = '/content/drive/MyDrive/Clasificador de motos/'\n",
        "MODEL_PATH = os.path.join(CHECK_PATH, 'modelos', 'modelo1', 'modelo_1.h5')"
      ],
      "execution_count": null,
      "outputs": []
    },
    {
      "cell_type": "code",
      "metadata": {
        "id": "XTD_020AV1dB"
      },
      "source": [
        "clases_dict = {i:c for i,c in enumerate(CLASES)}\n",
        "\n",
        "with open(os.path.join(CHECK_PATH, 'motos_1_clases.py'), 'w') as f:\n",
        "  f.write(f'clases_dict = {str(clases_dict)}')"
      ],
      "execution_count": null,
      "outputs": []
    },
    {
      "cell_type": "markdown",
      "metadata": {
        "id": "8oKI3v3jseJh"
      },
      "source": [
        "### Cargar dataset"
      ]
    },
    {
      "cell_type": "code",
      "metadata": {
        "id": "yZ7O00yENDfa"
      },
      "source": [
        "from tensorflow.keras.applications.xception import preprocess_input\n",
        "import os\n",
        "from tensorflow.data import AUTOTUNE\n",
        "\n",
        "def get_label(file_path):\n",
        "  parts = tf.strings.split(file_path, os.path.sep)\n",
        "  one_hot = parts[-2] == CLASES\n",
        "  return tf.argmax(one_hot)\n",
        "\n",
        "def data_augmentation(image):\n",
        "  image = tf.image.resize(image, [IMG_SIZE+50, IMG_SIZE+50])\n",
        "  image = tf.image.random_flip_left_right(image)\n",
        "  image = tf.image.random_crop(image, (IMG_SIZE, IMG_SIZE, 3))\n",
        "  return image\n",
        "\n",
        "def load_image(file_path, augmentation=True):\n",
        "  image = tf.io.read_file(file_path)\n",
        "  image = tf.image.decode_jpeg(image, channels=3)\n",
        "  image = tf.image.resize(image, [IMG_SIZE, IMG_SIZE])\n",
        "\n",
        "  if augmentation:\n",
        "    image = data_augmentation(image)\n",
        "\n",
        "  image = preprocess_input(image)\n",
        "  label = get_label(file_path)\n",
        "  return image, label\n",
        "\n",
        "def load_train(file_name):\n",
        "  return load_image(file_name)\n",
        "\n",
        "def load_test(file_name):\n",
        "  return load_image(file_name, False)"
      ],
      "execution_count": null,
      "outputs": []
    },
    {
      "cell_type": "code",
      "metadata": {
        "id": "mdH6RNDHmm5Z"
      },
      "source": [
        "list_ds = tf.data.Dataset.list_files(os.path.join(DATA_PATH, '*', '*'), shuffle=True)\n",
        "\n",
        "val_split = int(list_ds.cardinality().numpy() * 0.2)\n",
        "test_split = int(list_ds.cardinality().numpy() * 0.1)\n",
        "\n",
        "test_ds = list_ds.take(test_split)\n",
        "val_ds = list_ds.skip(test_split).take(val_split)\n",
        "train_ds = list_ds.skip(test_split).skip(val_split)"
      ],
      "execution_count": null,
      "outputs": []
    },
    {
      "cell_type": "code",
      "metadata": {
        "id": "WKTTEKntqYR2"
      },
      "source": [
        "test_ds = test_ds.map(load_test, num_parallel_calls=AUTOTUNE)\n",
        "test_ds = test_ds.batch(BATCH_SIZE).prefetch(buffer_size=AUTOTUNE)\n",
        "\n",
        "val_ds = val_ds.map(load_test, num_parallel_calls=AUTOTUNE)\n",
        "val_ds = val_ds.batch(BATCH_SIZE).prefetch(buffer_size=AUTOTUNE)\n",
        "\n",
        "train_ds = train_ds.map(load_train, num_parallel_calls=AUTOTUNE)\n",
        "train_ds = train_ds.batch(BATCH_SIZE).prefetch(buffer_size=AUTOTUNE)"
      ],
      "execution_count": null,
      "outputs": []
    },
    {
      "cell_type": "markdown",
      "metadata": {
        "id": "QpqCaz-YWCNx"
      },
      "source": [
        "## Sección 3: Modelado"
      ]
    },
    {
      "cell_type": "code",
      "metadata": {
        "id": "t_mRlC1yoRxC"
      },
      "source": [
        "!pip install -q -U keras-tuner"
      ],
      "execution_count": null,
      "outputs": []
    },
    {
      "cell_type": "code",
      "metadata": {
        "id": "qqxe7-9kakdC"
      },
      "source": [
        "from keras_tuner import HyperModel\n",
        "from keras_tuner.tuners import RandomSearch\n",
        "from tensorflow.keras.applications import Xception\n",
        "from tensorflow.keras import layers\n",
        "from tensorflow.keras.regularizers import l2\n",
        "from tensorflow.keras.optimizers.schedules import ExponentialDecay\n",
        "from tensorflow.keras.optimizers import Adam\n",
        "from tensorflow.keras.losses import SparseCategoricalCrossentropy"
      ],
      "execution_count": null,
      "outputs": []
    },
    {
      "cell_type": "markdown",
      "metadata": {
        "id": "-2rTktIhaXGX"
      },
      "source": [
        "### Diseno de arquitectura\n",
        "\n",
        "Utilizaremos un Xception como base para nuestro modelo y Keras-Tuner para conseguir los mejores hyperparametros."
      ]
    },
    {
      "cell_type": "code",
      "metadata": {
        "id": "atbSRYPkwvo9"
      },
      "source": [
        "class MyModel(HyperModel):\n",
        "\n",
        "    def __init__(self, num_classes):\n",
        "        self.num_classes = num_classes\n",
        "\n",
        "    def build(self, hp):\n",
        "        base_model = Xception(include_top=False, input_shape=(IMG_SIZE, IMG_SIZE, 3))\n",
        "\n",
        "        for layer in base_model.layers[:-46]:\n",
        "          layer.trainable = False\n",
        "        for layer in base_model.layers[-46:]:\n",
        "          layer.trainable = True\n",
        "\n",
        "        dropout_rate = hp.Choice('dropout', values=[.2, .3, .4, .5])\n",
        "        factor_regularizer = hp.Choice('regularizer', values=[1, 2, 3, 4])\n",
        "\n",
        "        model = tf.keras.Sequential(\n",
        "            [\n",
        "            base_model,\n",
        "            layers.GlobalAveragePooling2D(),\n",
        "            layers.Dropout(dropout_rate),\n",
        "            layers.Dense(self.num_classes, activation=\"softmax\", kernel_regularizer=l2(factor_regularizer*dropout_rate))\n",
        "            ]\n",
        "        )\n",
        "\n",
        "        lr = hp.Choice('learning_rate', values=[1e-3, 2.5e-3, 1e-4, 2.5e-4, 1e-5])\n",
        "        \n",
        "        model.compile(optimizer=Adam(learning_rate=lr),\n",
        "                      loss=SparseCategoricalCrossentropy(),\n",
        "                      metrics=['accuracy'])\n",
        "        \n",
        "        return model"
      ],
      "execution_count": null,
      "outputs": []
    },
    {
      "cell_type": "markdown",
      "metadata": {
        "id": "XivWEPK6by1H"
      },
      "source": [
        "## Sección 4: Entrenamiento"
      ]
    },
    {
      "cell_type": "markdown",
      "metadata": {
        "id": "qG0A6IZdpuHp"
      },
      "source": [
        "### Busqueda de hyperparametros"
      ]
    },
    {
      "cell_type": "code",
      "metadata": {
        "id": "nsbiVgDOcWOD",
        "colab": {
          "base_uri": "https://localhost:8080/"
        },
        "outputId": "666e3a14-1d9e-44a9-db85-b8c932a1d90a"
      },
      "source": [
        "hypermodel = MyModel(num_classes=len(os.listdir(DATA_PATH)))\n",
        "\n",
        "tuner = RandomSearch(\n",
        "    hypermodel,\n",
        "    objective='val_loss',\n",
        "    max_trials=25,\n",
        "    directory=os.path.join(CHECK_PATH, 'tuner'),\n",
        "    project_name='motos_1')"
      ],
      "execution_count": null,
      "outputs": [
        {
          "output_type": "stream",
          "text": [
            "INFO:tensorflow:Reloading Oracle from existing project /content/drive/MyDrive/Clasificador de motos/tuner/motos_1/oracle.json\n"
          ],
          "name": "stdout"
        }
      ]
    },
    {
      "cell_type": "code",
      "metadata": {
        "id": "zjen8hQyprYh"
      },
      "source": [
        "early_stop = tf.keras.callbacks.EarlyStopping(monitor='val_loss', patience=3)\n",
        "\n",
        "tuner.search(train_ds,\n",
        "             epochs=6,\n",
        "             validation_data=val_ds,\n",
        "             callbacks=[early_stop])"
      ],
      "execution_count": null,
      "outputs": []
    },
    {
      "cell_type": "code",
      "metadata": {
        "colab": {
          "base_uri": "https://localhost:8080/"
        },
        "id": "-qZ6601O-BB5",
        "outputId": "baa65368-2481-47f8-d544-3eba57ddafe5"
      },
      "source": [
        "best_hps = tuner.get_best_hyperparameters(1)[0]\n",
        "\n",
        "print(f'Dropout: {best_hps.get(\"dropout\")}')\n",
        "print(f'Regularizer factor: {best_hps.get(\"regularizer\") * best_hps.get(\"dropout\")}')\n",
        "print(f'LR: {best_hps.get(\"learning_rate\")}')"
      ],
      "execution_count": null,
      "outputs": [
        {
          "output_type": "stream",
          "text": [
            "Dropout: 0.2\n",
            "Regularizer factor: 0.2\n",
            "LR: 0.001\n"
          ],
          "name": "stdout"
        }
      ]
    },
    {
      "cell_type": "markdown",
      "metadata": {
        "id": "-Bh-xxFZp3WJ"
      },
      "source": [
        "### Entrenamiento de modelo final"
      ]
    },
    {
      "cell_type": "code",
      "metadata": {
        "colab": {
          "base_uri": "https://localhost:8080/"
        },
        "id": "4JkgFs5MQY2T",
        "outputId": "3add4c98-fa54-49f0-a236-e51fa8825506"
      },
      "source": [
        "model = tuner.hypermodel.build(best_hps)\n",
        "\n",
        "lr_schedule = tf.keras.optimizers.schedules.ExponentialDecay(\n",
        "    initial_learning_rate=best_hps.get(\"learning_rate\"),\n",
        "    decay_steps=train_ds.cardinality().numpy(),\n",
        "    decay_rate=0.90\n",
        "    )\n",
        "\n",
        "early_stop = tf.keras.callbacks.EarlyStopping(monitor='val_loss',\n",
        "                                              patience=3,\n",
        "                                              restore_best_weights=True)\n",
        "\n",
        "model.compile(optimizer=Adam(learning_rate=lr_schedule),\n",
        "                      loss=SparseCategoricalCrossentropy(),\n",
        "                      metrics=['accuracy'])\n",
        "\n",
        "model.fit(\n",
        "    train_ds,\n",
        "    epochs=50,\n",
        "    validation_data=val_ds,\n",
        "    callbacks=[early_stop]\n",
        ")"
      ],
      "execution_count": null,
      "outputs": [
        {
          "output_type": "stream",
          "text": [
            "Epoch 1/50\n",
            "22/22 [==============================] - 28s 1s/step - loss: 0.6355 - accuracy: 0.9551 - val_loss: 0.4088 - val_accuracy: 0.9750\n",
            "Epoch 2/50\n",
            "22/22 [==============================] - 22s 983ms/step - loss: 0.1998 - accuracy: 0.9950 - val_loss: 0.1085 - val_accuracy: 0.9975\n",
            "Epoch 3/50\n",
            "22/22 [==============================] - 21s 973ms/step - loss: 0.0764 - accuracy: 0.9979 - val_loss: 0.0422 - val_accuracy: 1.0000\n",
            "Epoch 4/50\n",
            "22/22 [==============================] - 21s 948ms/step - loss: 0.0495 - accuracy: 0.9986 - val_loss: 0.0315 - val_accuracy: 1.0000\n",
            "Epoch 5/50\n",
            "22/22 [==============================] - 21s 950ms/step - loss: 0.0399 - accuracy: 1.0000 - val_loss: 0.0280 - val_accuracy: 1.0000\n",
            "Epoch 6/50\n",
            "22/22 [==============================] - 21s 967ms/step - loss: 0.0368 - accuracy: 0.9993 - val_loss: 0.0317 - val_accuracy: 0.9975\n",
            "Epoch 7/50\n",
            "22/22 [==============================] - 21s 972ms/step - loss: 0.0343 - accuracy: 0.9993 - val_loss: 0.0293 - val_accuracy: 0.9975\n",
            "Epoch 8/50\n",
            "22/22 [==============================] - 21s 959ms/step - loss: 0.0329 - accuracy: 1.0000 - val_loss: 0.0271 - val_accuracy: 1.0000\n",
            "Epoch 9/50\n",
            "22/22 [==============================] - 22s 995ms/step - loss: 0.0328 - accuracy: 1.0000 - val_loss: 0.0296 - val_accuracy: 0.9975\n",
            "Epoch 10/50\n",
            "22/22 [==============================] - 21s 948ms/step - loss: 0.0326 - accuracy: 1.0000 - val_loss: 0.0279 - val_accuracy: 1.0000\n",
            "Epoch 11/50\n",
            "22/22 [==============================] - 22s 996ms/step - loss: 0.0305 - accuracy: 1.0000 - val_loss: 0.0268 - val_accuracy: 1.0000\n",
            "Epoch 12/50\n",
            "22/22 [==============================] - 21s 968ms/step - loss: 0.0296 - accuracy: 1.0000 - val_loss: 0.0263 - val_accuracy: 1.0000\n",
            "Epoch 13/50\n",
            "22/22 [==============================] - 21s 941ms/step - loss: 0.0294 - accuracy: 1.0000 - val_loss: 0.0269 - val_accuracy: 1.0000\n",
            "Epoch 14/50\n",
            "22/22 [==============================] - 22s 995ms/step - loss: 0.0286 - accuracy: 1.0000 - val_loss: 0.0257 - val_accuracy: 1.0000\n",
            "Epoch 15/50\n",
            "22/22 [==============================] - 21s 975ms/step - loss: 0.0284 - accuracy: 1.0000 - val_loss: 0.0253 - val_accuracy: 1.0000\n",
            "Epoch 16/50\n",
            "22/22 [==============================] - 20s 922ms/step - loss: 0.0283 - accuracy: 1.0000 - val_loss: 0.0258 - val_accuracy: 1.0000\n",
            "Epoch 17/50\n",
            "22/22 [==============================] - 21s 960ms/step - loss: 0.0286 - accuracy: 1.0000 - val_loss: 0.0259 - val_accuracy: 1.0000\n",
            "Epoch 18/50\n",
            "22/22 [==============================] - 20s 910ms/step - loss: 0.0272 - accuracy: 1.0000 - val_loss: 0.0253 - val_accuracy: 1.0000\n",
            "Epoch 19/50\n",
            "22/22 [==============================] - 20s 924ms/step - loss: 0.0276 - accuracy: 1.0000 - val_loss: 0.0256 - val_accuracy: 1.0000\n",
            "Epoch 20/50\n",
            "22/22 [==============================] - 21s 935ms/step - loss: 0.0270 - accuracy: 1.0000 - val_loss: 0.0253 - val_accuracy: 1.0000\n",
            "Epoch 21/50\n",
            "22/22 [==============================] - 20s 906ms/step - loss: 0.0274 - accuracy: 1.0000 - val_loss: 0.0251 - val_accuracy: 1.0000\n",
            "Epoch 22/50\n",
            "22/22 [==============================] - 20s 915ms/step - loss: 0.0270 - accuracy: 1.0000 - val_loss: 0.0255 - val_accuracy: 1.0000\n",
            "Epoch 23/50\n",
            "22/22 [==============================] - 20s 923ms/step - loss: 0.0273 - accuracy: 1.0000 - val_loss: 0.0256 - val_accuracy: 1.0000\n",
            "Epoch 24/50\n",
            "22/22 [==============================] - 21s 930ms/step - loss: 0.0267 - accuracy: 1.0000 - val_loss: 0.0255 - val_accuracy: 1.0000\n"
          ],
          "name": "stdout"
        },
        {
          "output_type": "execute_result",
          "data": {
            "text/plain": [
              "<tensorflow.python.keras.callbacks.History at 0x7f5a9a378810>"
            ]
          },
          "metadata": {
            "tags": []
          },
          "execution_count": 19
        }
      ]
    },
    {
      "cell_type": "markdown",
      "metadata": {
        "id": "I3ZfafkZp8lh"
      },
      "source": [
        "## Sección 5: Evaluación y guardado"
      ]
    },
    {
      "cell_type": "code",
      "metadata": {
        "id": "aa_WPPWgQYwV",
        "colab": {
          "base_uri": "https://localhost:8080/"
        },
        "outputId": "9436cb65-8deb-49e4-d4aa-96b6ad075248"
      },
      "source": [
        "model.evaluate(test_ds)"
      ],
      "execution_count": null,
      "outputs": [
        {
          "output_type": "stream",
          "text": [
            "4/4 [==============================] - 2s 304ms/step - loss: 0.0252 - accuracy: 1.0000\n"
          ],
          "name": "stdout"
        },
        {
          "output_type": "execute_result",
          "data": {
            "text/plain": [
              "[0.02516740746796131, 1.0]"
            ]
          },
          "metadata": {
            "tags": []
          },
          "execution_count": 26
        }
      ]
    },
    {
      "cell_type": "code",
      "metadata": {
        "id": "7sF9mb8nSwhu",
        "colab": {
          "base_uri": "https://localhost:8080/"
        },
        "outputId": "ac972f2f-bffb-4930-db73-4381843e9703"
      },
      "source": [
        "model.save(MODEL_PATH)"
      ],
      "execution_count": null,
      "outputs": [
        {
          "output_type": "stream",
          "text": [
            "/usr/local/lib/python3.7/dist-packages/tensorflow/python/keras/utils/generic_utils.py:497: CustomMaskWarning: Custom mask layers require a config and must override get_config. When loading, the custom mask layer must be passed to the custom_objects argument.\n",
            "  category=CustomMaskWarning)\n"
          ],
          "name": "stderr"
        }
      ]
    },
    {
      "cell_type": "code",
      "metadata": {
        "id": "m_YF0dHsLgdI"
      },
      "source": [
        "model = tf.keras.models.load_model(MODEL_PATH)"
      ],
      "execution_count": null,
      "outputs": []
    },
    {
      "cell_type": "code",
      "metadata": {
        "id": "ESWHzXfxLl0G"
      },
      "source": [
        ""
      ],
      "execution_count": null,
      "outputs": []
    }
  ]
}