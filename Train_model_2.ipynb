{
  "nbformat": 4,
  "nbformat_minor": 0,
  "metadata": {
    "accelerator": "GPU",
    "colab": {
      "name": "Train_model_2",
      "provenance": [],
      "collapsed_sections": [],
      "include_colab_link": true
    },
    "kernelspec": {
      "display_name": "Python 3",
      "name": "python3"
    },
    "language_info": {
      "name": "python"
    }
  },
  "cells": [
    {
      "cell_type": "markdown",
      "metadata": {
        "id": "view-in-github",
        "colab_type": "text"
      },
      "source": [
        "<a href=\"https://colab.research.google.com/github/argenis-gomez/Clasificador-de-motos/blob/master/Train_model_2.ipynb\" target=\"_parent\"><img src=\"https://colab.research.google.com/assets/colab-badge.svg\" alt=\"Open In Colab\"/></a>"
      ]
    },
    {
      "cell_type": "markdown",
      "metadata": {
        "id": "pAy3gQU1TOOe"
      },
      "source": [
        "# Clasificador de motos\n",
        "\n",
        "Disenaremos un clasificador de motos utilizando un dataset scrapeado de mercado libre."
      ]
    },
    {
      "cell_type": "code",
      "metadata": {
        "id": "DON-f8HASga2",
        "colab": {
          "base_uri": "https://localhost:8080/"
        },
        "outputId": "4611bb1f-8c9e-4b03-e688-64b65cc07967"
      },
      "source": [
        "from google.colab import drive\n",
        "drive.mount('/content/drive')"
      ],
      "execution_count": null,
      "outputs": [
        {
          "output_type": "stream",
          "text": [
            "Mounted at /content/drive\n"
          ],
          "name": "stdout"
        }
      ]
    },
    {
      "cell_type": "code",
      "metadata": {
        "id": "tsCQeEn1tsv0"
      },
      "source": [
        "import tensorflow as tf\n",
        "\n",
        "tf.random.set_seed(905)"
      ],
      "execution_count": null,
      "outputs": []
    },
    {
      "cell_type": "markdown",
      "metadata": {
        "id": "Kc65gUcyUjbK"
      },
      "source": [
        "## Sección 1: Importar dataset"
      ]
    },
    {
      "cell_type": "code",
      "metadata": {
        "colab": {
          "base_uri": "https://localhost:8080/"
        },
        "id": "O6LkZX8uE6XO",
        "outputId": "e1f73d7a-4905-4e38-e8ef-811366e0fad1"
      },
      "source": [
        "!cp '/content/drive/MyDrive/Clasificador de motos/download_images.py' ./\n",
        "from download_images import *\n",
        "\n",
        "DATA_PATH = 'datasets/data2'\n",
        "FILE_PATH = '/content/drive/MyDrive/Clasificador de motos/Links.csv'\n",
        "\n",
        "download_images(DATA_PATH, FILE_PATH)"
      ],
      "execution_count": null,
      "outputs": [
        {
          "output_type": "stream",
          "text": [
            "Creando directorios Deportivas...\n",
            "Creando directorios Touring...\n",
            "Creando directorios Scooters...\n",
            "Creando directorios Cross...\n",
            "Creando directorios Chopper...\n",
            "Creando directorios Enduro...\n",
            "Creando directorios Calle...\n",
            "Creando directorios Cuatriciclos...\n",
            "Creando directorios Naked...\n",
            "\n",
            "[INFO]: Descargando imágenes. Esto puede tardar unos minutos.\n",
            "\n",
            "[INFO]: Descarga finalizada - Tiempo transcurrido: 3.17 mins - Imágenes descargadas: 14745.\n"
          ],
          "name": "stdout"
        }
      ]
    },
    {
      "cell_type": "markdown",
      "metadata": {
        "id": "a09t6wUKUsNK"
      },
      "source": [
        "## Sección 2: Preparación de datos"
      ]
    },
    {
      "cell_type": "markdown",
      "metadata": {
        "id": "ovm0FuttWLDM"
      },
      "source": [
        "### Variables"
      ]
    },
    {
      "cell_type": "code",
      "metadata": {
        "id": "FSH4ft9y1-3O"
      },
      "source": [
        "import os"
      ],
      "execution_count": null,
      "outputs": []
    },
    {
      "cell_type": "code",
      "metadata": {
        "id": "Rsz_H_BALVDV"
      },
      "source": [
        "IMG_SIZE = 299\n",
        "BATCH_SIZE = 64\n",
        "CLASES = os.listdir(DATA_PATH)\n",
        "\n",
        "CHECK_PATH = '/content/drive/MyDrive/Clasificador de motos/'\n",
        "MODEL_PATH = os.path.join(CHECK_PATH, 'modelos', 'modelo2', 'modelo_2.h5')"
      ],
      "execution_count": null,
      "outputs": []
    },
    {
      "cell_type": "code",
      "metadata": {
        "id": "r4dunejtMJjh"
      },
      "source": [
        "clases_dict = {i:c for i,c in enumerate(CLASES)}\n",
        "\n",
        "with open(os.path.join(CHECK_PATH, 'motos_2_clases.py'), 'w') as f:\n",
        "  f.write(f'clases_dict = {str(clases_dict)}')"
      ],
      "execution_count": null,
      "outputs": []
    },
    {
      "cell_type": "markdown",
      "metadata": {
        "id": "8oKI3v3jseJh"
      },
      "source": [
        "### Cargar dataset"
      ]
    },
    {
      "cell_type": "code",
      "metadata": {
        "id": "yZ7O00yENDfa"
      },
      "source": [
        "from tensorflow.keras.applications.xception import preprocess_input\n",
        "from tensorflow.data import AUTOTUNE\n",
        "\n",
        "def get_label(file_path):\n",
        "  parts = tf.strings.split(file_path, os.path.sep)\n",
        "  one_hot = parts[-2] == CLASES\n",
        "  return tf.argmax(one_hot)\n",
        "\n",
        "def data_augmentation(image):\n",
        "  image = tf.image.resize(image, [IMG_SIZE+50, IMG_SIZE+50])\n",
        "  image = tf.image.random_flip_left_right(image)\n",
        "  image = tf.image.random_crop(image, (IMG_SIZE, IMG_SIZE, 3))\n",
        "  return image\n",
        "\n",
        "def load_image(file_path, augmentation=True):\n",
        "  image = tf.io.read_file(file_path)\n",
        "  image = tf.image.decode_jpeg(image, channels=3)\n",
        "  image = tf.image.resize(image, [IMG_SIZE, IMG_SIZE])\n",
        "\n",
        "  if augmentation:\n",
        "    image = data_augmentation(image)\n",
        "\n",
        "  image = preprocess_input(image)\n",
        "  label = get_label(file_path)\n",
        "  return image, label\n",
        "\n",
        "def load_train(file_name):\n",
        "  return load_image(file_name)\n",
        "\n",
        "def load_test(file_name):\n",
        "  return load_image(file_name, False)"
      ],
      "execution_count": null,
      "outputs": []
    },
    {
      "cell_type": "code",
      "metadata": {
        "id": "mdH6RNDHmm5Z"
      },
      "source": [
        "list_ds = tf.data.Dataset.list_files(os.path.join(DATA_PATH, '*', '*'), shuffle=True)\n",
        "\n",
        "val_split = int(list_ds.cardinality().numpy() * 0.2)\n",
        "test_split = int(list_ds.cardinality().numpy() * 0.1)\n",
        "\n",
        "\n",
        "test_ds = list_ds.take(test_split)\n",
        "val_ds = list_ds.skip(test_split).take(val_split)\n",
        "train_ds = list_ds.skip(test_split).skip(val_split)"
      ],
      "execution_count": null,
      "outputs": []
    },
    {
      "cell_type": "code",
      "metadata": {
        "id": "WKTTEKntqYR2"
      },
      "source": [
        "test_ds = test_ds.map(load_test, num_parallel_calls=AUTOTUNE)\n",
        "test_ds = test_ds.batch(BATCH_SIZE).prefetch(buffer_size=AUTOTUNE)\n",
        "\n",
        "val_ds = val_ds.map(load_test, num_parallel_calls=AUTOTUNE)\n",
        "val_ds = val_ds.batch(BATCH_SIZE).prefetch(buffer_size=AUTOTUNE)\n",
        "\n",
        "train_ds = train_ds.map(load_train, num_parallel_calls=AUTOTUNE)\n",
        "train_ds = train_ds.batch(BATCH_SIZE).prefetch(buffer_size=AUTOTUNE)"
      ],
      "execution_count": null,
      "outputs": []
    },
    {
      "cell_type": "markdown",
      "metadata": {
        "id": "QpqCaz-YWCNx"
      },
      "source": [
        "## Sección 3: Modelado"
      ]
    },
    {
      "cell_type": "code",
      "metadata": {
        "id": "5Be5mC-O55cy",
        "colab": {
          "base_uri": "https://localhost:8080/"
        },
        "outputId": "c2db1855-b332-46cf-98f5-ff95708aba52"
      },
      "source": [
        "!pip install -q -U keras-tuner"
      ],
      "execution_count": null,
      "outputs": [
        {
          "output_type": "stream",
          "text": [
            "\u001b[?25l\r\u001b[K     |███▍                            | 10kB 26.9MB/s eta 0:00:01\r\u001b[K     |██████▉                         | 20kB 19.1MB/s eta 0:00:01\r\u001b[K     |██████████▏                     | 30kB 15.7MB/s eta 0:00:01\r\u001b[K     |█████████████▋                  | 40kB 14.5MB/s eta 0:00:01\r\u001b[K     |█████████████████               | 51kB 6.8MB/s eta 0:00:01\r\u001b[K     |████████████████████▍           | 61kB 6.8MB/s eta 0:00:01\r\u001b[K     |███████████████████████▊        | 71kB 7.5MB/s eta 0:00:01\r\u001b[K     |███████████████████████████▏    | 81kB 8.2MB/s eta 0:00:01\r\u001b[K     |██████████████████████████████▋ | 92kB 8.5MB/s eta 0:00:01\r\u001b[K     |████████████████████████████████| 102kB 6.1MB/s \n",
            "\u001b[?25h  Building wheel for kt-legacy (setup.py) ... \u001b[?25l\u001b[?25hdone\n"
          ],
          "name": "stdout"
        }
      ]
    },
    {
      "cell_type": "code",
      "metadata": {
        "id": "qqxe7-9kakdC"
      },
      "source": [
        "from keras_tuner import HyperModel\n",
        "from keras_tuner.tuners import RandomSearch\n",
        "from tensorflow.keras.applications import Xception\n",
        "from tensorflow.keras import layers\n",
        "from tensorflow.keras.regularizers import l2\n",
        "from tensorflow.keras.optimizers.schedules import ExponentialDecay\n",
        "from tensorflow.keras.optimizers import Adam\n",
        "from tensorflow.keras.losses import SparseCategoricalCrossentropy"
      ],
      "execution_count": null,
      "outputs": []
    },
    {
      "cell_type": "markdown",
      "metadata": {
        "id": "-2rTktIhaXGX"
      },
      "source": [
        "### Diseno de arquitectura\n",
        "\n",
        "Utilizaremos un Xception como base para nuestro modelo y Keras-Tuner para conseguir los mejores hyperparametros."
      ]
    },
    {
      "cell_type": "code",
      "metadata": {
        "id": "pjJAXX1M6Nap"
      },
      "source": [
        "class MyModel(HyperModel):\n",
        "\n",
        "    def __init__(self, num_classes):\n",
        "        self.num_classes = num_classes\n",
        "\n",
        "    def build(self, hp):\n",
        "        base_model = Xception(include_top=False, input_shape=(IMG_SIZE, IMG_SIZE, 3))\n",
        "\n",
        "        for layer in base_model.layers[:-46]:\n",
        "          layer.trainable = False\n",
        "        for layer in base_model.layers[-46:]:\n",
        "          layer.trainable = True\n",
        "\n",
        "        dropout_rate = hp.Choice('dropout', values=[.2, .3, .4, .5])\n",
        "        factor_regularizer = hp.Choice('regularizer', values=[1, 2, 3, 4])\n",
        "\n",
        "        model = tf.keras.Sequential(\n",
        "            [\n",
        "            base_model,\n",
        "            layers.GlobalAveragePooling2D(),\n",
        "            layers.Dropout(dropout_rate),\n",
        "            layers.Dense(self.num_classes, activation=\"softmax\", kernel_regularizer=l2(factor_regularizer*dropout_rate))\n",
        "            ]\n",
        "        )\n",
        "\n",
        "        lr = hp.Choice('learning_rate', values=[1e-3, 2.5e-3, 1e-4, 2.5e-4, 1e-5])\n",
        "        \n",
        "        model.compile(optimizer=Adam(learning_rate=lr),\n",
        "                      loss=SparseCategoricalCrossentropy(),\n",
        "                      metrics=['accuracy'])\n",
        "        \n",
        "        return model"
      ],
      "execution_count": null,
      "outputs": []
    },
    {
      "cell_type": "markdown",
      "metadata": {
        "id": "XivWEPK6by1H"
      },
      "source": [
        "## Sección 4: Entrenamiento"
      ]
    },
    {
      "cell_type": "markdown",
      "metadata": {
        "id": "MciWG_WMp0cB"
      },
      "source": [
        "### Busqueda de hyperparametros"
      ]
    },
    {
      "cell_type": "code",
      "metadata": {
        "id": "J-7JietS7WGB"
      },
      "source": [
        "hypermodel = MyModel(num_classes=len(os.listdir(DATA_PATH)))  \n",
        "\n",
        "tuner = RandomSearch(\n",
        "    hypermodel,\n",
        "    objective='val_loss',\n",
        "    max_trials=25,\n",
        "    directory=os.path.join(CHECK_PATH, 'tuner'),\n",
        "    project_name='motos_2')"
      ],
      "execution_count": null,
      "outputs": []
    },
    {
      "cell_type": "code",
      "metadata": {
        "id": "J_hDVoOJ8R6a"
      },
      "source": [
        "early_stop = tf.keras.callbacks.EarlyStopping(monitor='val_loss', patience=3)\n",
        "\n",
        "tuner.search(train_ds,\n",
        "             epochs=10,\n",
        "             validation_data=val_ds,\n",
        "             callbacks=[early_stop])"
      ],
      "execution_count": null,
      "outputs": []
    },
    {
      "cell_type": "code",
      "metadata": {
        "colab": {
          "base_uri": "https://localhost:8080/"
        },
        "id": "szQS_WB7Qiot",
        "outputId": "340a876d-05bb-4845-d27b-51453a1d5dec"
      },
      "source": [
        "best_hps = tuner.get_best_hyperparameters(1)[0]\n",
        "\n",
        "print(f'Dropout: {best_hps.get(\"dropout\")}')\n",
        "print(f'Regularizer factor: {best_hps.get(\"regularizer\") * best_hps.get(\"dropout\")}')\n",
        "print(f'LR: {best_hps.get(\"learning_rate\")}')"
      ],
      "execution_count": null,
      "outputs": [
        {
          "output_type": "stream",
          "text": [
            "Dropout: 0.3\n",
            "Regularizer factor: 0.3\n",
            "LR: 0.00025\n"
          ],
          "name": "stdout"
        }
      ]
    },
    {
      "cell_type": "markdown",
      "metadata": {
        "id": "-Bh-xxFZp3WJ"
      },
      "source": [
        "### Entrenamiento de modelo final"
      ]
    },
    {
      "cell_type": "code",
      "metadata": {
        "colab": {
          "base_uri": "https://localhost:8080/"
        },
        "id": "4JkgFs5MQY2T",
        "outputId": "ef2f5fb3-3618-4512-9f35-3d8f9dee9343"
      },
      "source": [
        "model = tuner.hypermodel.build(best_hps)\n",
        "\n",
        "lr_schedule = tf.keras.optimizers.schedules.ExponentialDecay(\n",
        "    initial_learning_rate=best_hps.get(\"learning_rate\"),\n",
        "    decay_steps=train_ds.cardinality().numpy(),\n",
        "    decay_rate=0.90\n",
        "    )\n",
        "\n",
        "early_stop = tf.keras.callbacks.EarlyStopping(monitor='val_loss',\n",
        "                                              patience=3,\n",
        "                                              restore_best_weights=True)\n",
        "\n",
        "model.compile(optimizer=Adam(learning_rate=lr_schedule),\n",
        "                      loss=SparseCategoricalCrossentropy(),\n",
        "                      metrics=['accuracy'])\n",
        "\n",
        "model.fit(\n",
        "    train_ds,\n",
        "    epochs=50,\n",
        "    validation_data=val_ds,\n",
        "    callbacks=[early_stop]\n",
        ")"
      ],
      "execution_count": null,
      "outputs": [
        {
          "output_type": "stream",
          "text": [
            "Epoch 1/50\n",
            "162/162 [==============================] - 197s 988ms/step - loss: 3.3480 - accuracy: 0.6346 - val_loss: 1.4428 - val_accuracy: 0.7331\n",
            "Epoch 2/50\n",
            "162/162 [==============================] - 162s 999ms/step - loss: 1.1435 - accuracy: 0.7430 - val_loss: 0.9296 - val_accuracy: 0.7484\n",
            "Epoch 3/50\n",
            "162/162 [==============================] - 163s 1s/step - loss: 0.8859 - accuracy: 0.7676 - val_loss: 0.7897 - val_accuracy: 0.8020\n",
            "Epoch 4/50\n",
            "162/162 [==============================] - 162s 997ms/step - loss: 0.7867 - accuracy: 0.7981 - val_loss: 0.7339 - val_accuracy: 0.8179\n",
            "Epoch 5/50\n",
            "162/162 [==============================] - 163s 1s/step - loss: 0.7195 - accuracy: 0.8191 - val_loss: 0.6430 - val_accuracy: 0.8372\n",
            "Epoch 6/50\n",
            "162/162 [==============================] - 162s 998ms/step - loss: 0.6459 - accuracy: 0.8469 - val_loss: 0.5827 - val_accuracy: 0.8633\n",
            "Epoch 7/50\n",
            "162/162 [==============================] - 163s 1s/step - loss: 0.5954 - accuracy: 0.8687 - val_loss: 0.5523 - val_accuracy: 0.8681\n",
            "Epoch 8/50\n",
            "162/162 [==============================] - 162s 1s/step - loss: 0.5512 - accuracy: 0.8854 - val_loss: 0.5258 - val_accuracy: 0.8864\n",
            "Epoch 9/50\n",
            "162/162 [==============================] - 179s 1s/step - loss: 0.5087 - accuracy: 0.8964 - val_loss: 0.5003 - val_accuracy: 0.8895\n",
            "Epoch 10/50\n",
            "162/162 [==============================] - 162s 1s/step - loss: 0.4746 - accuracy: 0.9065 - val_loss: 0.4540 - val_accuracy: 0.9061\n",
            "Epoch 11/50\n",
            "162/162 [==============================] - 162s 1s/step - loss: 0.4641 - accuracy: 0.9084 - val_loss: 0.4512 - val_accuracy: 0.9129\n",
            "Epoch 12/50\n",
            "162/162 [==============================] - 162s 1s/step - loss: 0.4451 - accuracy: 0.9129 - val_loss: 0.4324 - val_accuracy: 0.9101\n",
            "Epoch 13/50\n",
            "162/162 [==============================] - 162s 998ms/step - loss: 0.4307 - accuracy: 0.9173 - val_loss: 0.4151 - val_accuracy: 0.9152\n",
            "Epoch 14/50\n",
            "162/162 [==============================] - 162s 999ms/step - loss: 0.4053 - accuracy: 0.9239 - val_loss: 0.4002 - val_accuracy: 0.9237\n",
            "Epoch 15/50\n",
            "162/162 [==============================] - 163s 1s/step - loss: 0.4056 - accuracy: 0.9210 - val_loss: 0.4032 - val_accuracy: 0.9227\n",
            "Epoch 16/50\n",
            "162/162 [==============================] - 162s 1s/step - loss: 0.3874 - accuracy: 0.9276 - val_loss: 0.3736 - val_accuracy: 0.9318\n",
            "Epoch 17/50\n",
            "162/162 [==============================] - 162s 998ms/step - loss: 0.3929 - accuracy: 0.9240 - val_loss: 0.3885 - val_accuracy: 0.9264\n",
            "Epoch 18/50\n",
            "162/162 [==============================] - 162s 997ms/step - loss: 0.3757 - accuracy: 0.9306 - val_loss: 0.3824 - val_accuracy: 0.9271\n",
            "Epoch 19/50\n",
            "162/162 [==============================] - 162s 998ms/step - loss: 0.3716 - accuracy: 0.9297 - val_loss: 0.3644 - val_accuracy: 0.9312\n",
            "Epoch 20/50\n",
            "162/162 [==============================] - 163s 1s/step - loss: 0.3566 - accuracy: 0.9354 - val_loss: 0.3643 - val_accuracy: 0.9346\n",
            "Epoch 21/50\n",
            "162/162 [==============================] - 162s 1s/step - loss: 0.3452 - accuracy: 0.9393 - val_loss: 0.3721 - val_accuracy: 0.9281\n",
            "Epoch 22/50\n",
            "162/162 [==============================] - 162s 999ms/step - loss: 0.3494 - accuracy: 0.9341 - val_loss: 0.3492 - val_accuracy: 0.9369\n",
            "Epoch 23/50\n",
            "162/162 [==============================] - 162s 999ms/step - loss: 0.3482 - accuracy: 0.9350 - val_loss: 0.3577 - val_accuracy: 0.9339\n",
            "Epoch 24/50\n",
            "162/162 [==============================] - 163s 1s/step - loss: 0.3520 - accuracy: 0.9340 - val_loss: 0.3687 - val_accuracy: 0.9261\n",
            "Epoch 25/50\n",
            "162/162 [==============================] - 162s 997ms/step - loss: 0.3460 - accuracy: 0.9337 - val_loss: 0.3667 - val_accuracy: 0.9244\n"
          ],
          "name": "stdout"
        },
        {
          "output_type": "execute_result",
          "data": {
            "text/plain": [
              "<tensorflow.python.keras.callbacks.History at 0x7f0082429c50>"
            ]
          },
          "metadata": {
            "tags": []
          },
          "execution_count": 15
        }
      ]
    },
    {
      "cell_type": "markdown",
      "metadata": {
        "id": "I3ZfafkZp8lh"
      },
      "source": [
        "## Sección 5: Evaluación y guardado"
      ]
    },
    {
      "cell_type": "code",
      "metadata": {
        "colab": {
          "base_uri": "https://localhost:8080/"
        },
        "id": "aa_WPPWgQYwV",
        "outputId": "84ec41ec-950a-4de3-fd40-5f5c2d441f4d"
      },
      "source": [
        "model.evaluate(test_ds)"
      ],
      "execution_count": null,
      "outputs": [
        {
          "output_type": "stream",
          "text": [
            "24/24 [==============================] - 13s 518ms/step - loss: 0.3560 - accuracy: 0.9301\n"
          ],
          "name": "stdout"
        },
        {
          "output_type": "execute_result",
          "data": {
            "text/plain": [
              "[0.35599231719970703, 0.9301221370697021]"
            ]
          },
          "metadata": {
            "tags": []
          },
          "execution_count": 16
        }
      ]
    },
    {
      "cell_type": "code",
      "metadata": {
        "id": "7sF9mb8nSwhu",
        "colab": {
          "base_uri": "https://localhost:8080/"
        },
        "outputId": "1cacdbd5-e03d-4079-a610-257f23874156"
      },
      "source": [
        "model.save(MODEL_PATH)"
      ],
      "execution_count": null,
      "outputs": [
        {
          "output_type": "stream",
          "text": [
            "/usr/local/lib/python3.7/dist-packages/tensorflow/python/keras/utils/generic_utils.py:497: CustomMaskWarning: Custom mask layers require a config and must override get_config. When loading, the custom mask layer must be passed to the custom_objects argument.\n",
            "  category=CustomMaskWarning)\n"
          ],
          "name": "stderr"
        }
      ]
    }
  ]
}